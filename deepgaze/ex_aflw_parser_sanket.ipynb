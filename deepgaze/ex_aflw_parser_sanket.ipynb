{
 "cells": [
  {
   "cell_type": "code",
   "execution_count": 9,
   "metadata": {},
   "outputs": [],
   "source": [
    "import os.path\n",
    "import numpy\n",
    "import cv2\n",
    "import csv\n",
    "from six.moves import cPickle as pickle"
   ]
  },
  {
   "cell_type": "code",
   "execution_count": 10,
   "metadata": {},
   "outputs": [],
   "source": [
    "#The path for the dataset images and for the csv file with\n",
    "# the label information.\n",
    "dataset_npy_path = \"dataset.npy\"\n",
    "label_npy_path = \"label.npy\"\n",
    "dataset_image_path = \"C:/Users/sanke_000/HeadPoseEstimation/My Version/HeadPoseImageDatabase/output from prima parser/output\"\n",
    "label_csv_path = \"C:/Users/sanke_000/HeadPoseEstimation/My Version/HeadPoseImageDatabase/output from prima parser/prima_label.csv\"\n"
   ]
  },
  {
   "cell_type": "code",
   "execution_count": 11,
   "metadata": {},
   "outputs": [
    {
     "name": "stdout",
     "output_type": "stream",
     "text": [
      "(2790, 2)\n",
      "[-90.   0.]\n"
     ]
    }
   ],
   "source": [
    "#If the dataset numpy file do not exist it create it\n",
    "if(os.path.isfile(label_npy_path)==False or os.path.isfile(dataset_npy_path)==False):\n",
    "\n",
    "    #Saving the file names in a list\n",
    "    image_list = list()\n",
    "    with open(label_csv_path) as csvfile:\n",
    "        reader = csv.reader(csvfile)\n",
    "        for row in reader:\n",
    "            image_list.append(row[0])\n",
    "\n",
    "    #Loading the label\n",
    "    label = numpy.genfromtxt(label_csv_path, delimiter=',', skip_header=1, usecols=(3,4), dtype=numpy.float32)\n",
    "    label_row, label_col = label.shape\n",
    "    print(label.shape)\n",
    "    print(label[0][:])\n",
    "\n",
    "    dataset_row = label_row\n",
    "    dataset_col = 64 * 64 #the size of the image\n",
    "    dataset = numpy.zeros((dataset_row, dataset_col), dtype=numpy.int8)\n",
    "\n",
    "    row_counter = 0\n",
    "    for image_name in image_list:\n",
    "        if image_name !='path':\n",
    "            image_path = image_name\n",
    "            image = cv2.imread(image_path, 0) #load in greyscale\n",
    "            dataset[row_counter] = image.reshape(1, -1)\n",
    "            row_counter += 1 \n",
    "\n",
    "    #Saving the numpy array to files\n",
    "    numpy.save(\"label\", label)\n",
    "    numpy.save(\"dataset\", dataset)\n"
   ]
  },
  {
   "cell_type": "code",
   "execution_count": 12,
   "metadata": {},
   "outputs": [
    {
     "name": "stdout",
     "output_type": "stream",
     "text": [
      "Loading the numpy file with the dataset and the label\n",
      "Rescaling the image values from range -127/+127 to range -1/+1\n",
      "=== PITCH === \n",
      "mean: 0.0\n",
      "std: 38.667316\n",
      "max: 90.0\n",
      "min: -90.0\n",
      "\n",
      "===  YAW  === \n",
      "mean: 0.0\n",
      "std: 55.51809\n",
      "max: 90.0\n",
      "min: -90.0\n",
      "\n",
      "Rescaling the label values from radians to range -1/+1\n"
     ]
    }
   ],
   "source": [
    "print(\"Loading the numpy file with the dataset and the label\")\n",
    "\n",
    "#Load the dataset and labels\n",
    "#The dataset contains integers\n",
    "#in the range -127/+127\n",
    "label = numpy.load(\"./label.npy\")\n",
    "dataset_int = numpy.load(\"./dataset.npy\")\n",
    "\n",
    "\n",
    "print(\"Rescaling the image values from range -127/+127 to range -1/+1\")\n",
    "\n",
    "#Applying min-max scaling to the dataset\n",
    "#After this step the data will be in the\n",
    "# range -1/+1\n",
    "dataset = dataset_int.astype(dtype=numpy.float32)\n",
    "dataset /= 127 #dividing by the max value\n",
    "\n",
    "# #Roll\n",
    "# max_roll = numpy.amax(label[:,0])\n",
    "# min_roll = numpy.amin(label[:,0])\n",
    "# std_roll = numpy.std(label[:,0])\n",
    "# mean_roll = numpy.mean(label[:,0])\n",
    "# print(\"\\n\")\n",
    "# print(\"===  ROLL  === \\n\" +  \"mean: \" + str(mean_roll) + \"\\n\" + \"std: \" + str(std_roll) + \"\\n\" + \"max: \" + str(max_roll) + \"\\n\" + \"min: \" + str(min_roll) + \"\\n\")\n",
    "\n",
    "#Pitch\n",
    "max_pitch = numpy.amax(label[:,0])\n",
    "min_pitch = numpy.amin(label[:,0])\n",
    "std_pitch = numpy.std(label[:,0])\n",
    "mean_pitch = numpy.mean(label[:,0])\n",
    "print(\"=== PITCH === \\n\" +  \"mean: \" + str(mean_pitch) + \"\\n\" + \"std: \" + str(std_pitch) + \"\\n\" + \"max: \" + str(max_pitch) + \"\\n\" + \"min: \" + str(min_pitch) + \"\\n\")\n",
    "\n",
    "#Yaw\n",
    "max_yaw = numpy.amax(label[:,1])\n",
    "min_yaw = numpy.amin(label[:,1])\n",
    "std_yaw = numpy.std(label[:,1])\n",
    "mean_yaw = numpy.mean(label[:,1])\n",
    "print(\"===  YAW  === \\n\" +  \"mean: \" + str(mean_yaw) + \"\\n\" + \"std: \" + str(std_yaw) + \"\\n\" + \"max: \" + str(max_yaw) + \"\\n\" + \"min: \" + str(min_yaw) + \"\\n\")\n",
    "\n",
    "print(\"Rescaling the label values from radians to range -1/+1\")\n"
   ]
  },
  {
   "cell_type": "code",
   "execution_count": 13,
   "metadata": {},
   "outputs": [
    {
     "name": "stdout",
     "output_type": "stream",
     "text": [
      "=== PITCH Scaled === \n",
      "mean: -8.75056e-08\n",
      "std: 24.616377\n",
      "max: 57.295776\n",
      "min: -57.295776\n",
      "\n",
      "===  YAW Scaled  === \n",
      "mean: -4.101825e-08\n",
      "std: 35.343914\n",
      "max: 57.295776\n",
      "min: -57.295776\n",
      "\n"
     ]
    }
   ],
   "source": [
    "#Min-Max scaling of the label\n",
    "# #Roll\n",
    "# label[:,0] /= (numpy.pi/2) #pi/2 radians correspond to 90 degree\n",
    "#Pitch\n",
    "label[:,0] /= (numpy.pi/2) #pi/2 radians are 90 degree\n",
    "#Yaw\n",
    "label[:,1] /= (numpy.pi/2) #pi/2 radians correspond to 90 degree\n",
    "\n",
    "# #Roll\n",
    "# max_roll = numpy.amax(label[:,0])\n",
    "# min_roll = numpy.amin(label[:,0])\n",
    "# std_roll = numpy.std(label[:,0])\n",
    "# mean_roll = numpy.mean(label[:,0])\n",
    "# print(\"\\n\")\n",
    "# print(\"===  ROLL Scaled  === \\n\" +  \"mean: \" + str(mean_roll) + \"\\n\" + \"std: \" + str(std_roll) + \"\\n\" + \"max: \" + str(max_roll) + \"\\n\" + \"min: \" + str(min_roll) + \"\\n\")\n",
    "\n",
    "#Pitch\n",
    "max_pitch = numpy.amax(label[:,0])\n",
    "min_pitch = numpy.amin(label[:,0])\n",
    "std_pitch = numpy.std(label[:,0])\n",
    "mean_pitch = numpy.mean(label[:,0])\n",
    "print(\"=== PITCH Scaled === \\n\" +  \"mean: \" + str(mean_pitch) + \"\\n\" + \"std: \" + str(std_pitch) + \"\\n\" + \"max: \" + str(max_pitch) + \"\\n\" + \"min: \" + str(min_pitch) + \"\\n\")\n",
    "\n",
    "#Yaw\n",
    "max_yaw = numpy.amax(label[:,1])\n",
    "min_yaw = numpy.amin(label[:,1])\n",
    "std_yaw = numpy.std(label[:,1])\n",
    "mean_yaw = numpy.mean(label[:,1])\n",
    "print(\"===  YAW Scaled  === \\n\" +  \"mean: \" + str(mean_yaw) + \"\\n\" + \"std: \" + str(std_yaw) + \"\\n\" + \"max: \" + str(max_yaw) + \"\\n\" + \"min: \" + str(min_yaw) + \"\\n\")\n"
   ]
  },
  {
   "cell_type": "code",
   "execution_count": 14,
   "metadata": {},
   "outputs": [],
   "source": [
    "#Temporary append the label to the dataset to shuffle the data\n",
    "data = numpy.append(dataset, label, axis=1)\n",
    "#Shuffle the row to randomize the data\n",
    "numpy.random.shuffle(data)\n",
    "\n",
    "#Separating the label from the dataset\n",
    "dataset = data[:,0:4096]\n",
    "label = data[:,4096:4098]\n"
   ]
  },
  {
   "cell_type": "code",
   "execution_count": 17,
   "metadata": {},
   "outputs": [],
   "source": [
    "#Creating the trainin and test datasets\n",
    "# #Training dataset is 60% of the total\n",
    "# row, col = dataset.shape\n",
    "# cut_80 = int(row * 0.8) #take 80% of the total\n",
    "# cut_10 = (row - cut_80)/2 #split the remaining 20%\n",
    "training_dataset = numpy.copy(dataset[0:2604,:]) \n",
    "training_label = numpy.copy(label[0:2604,:]) \n",
    "# #Validation dataset is 10% of the total\n",
    "# validation_dataset = numpy.copy(dataset[cut_80:cut_80+cut_10,:])\n",
    "# validation_label = numpy.copy(label[cut_80:cut_80+cut_10,:])\n",
    "# #Test dataset is 10% of the total\n",
    "test_dataset = numpy.copy(dataset[2604:2791,:])\n",
    "test_label = numpy.copy(label[2604:2791,:])\n"
   ]
  },
  {
   "cell_type": "code",
   "execution_count": 18,
   "metadata": {},
   "outputs": [
    {
     "name": "stdout",
     "output_type": "stream",
     "text": [
      "Saving the dataset in: aflw_dataset.pickle\n",
      "... \n",
      "The dataset has been saved and it is ready for the training! \n",
      "\n"
     ]
    }
   ],
   "source": [
    "#saving the sanitized dataset in a pickle file\n",
    "pickle_file = 'aflw_dataset.pickle'\n",
    "print(\"Saving the dataset in: \" + pickle_file)\n",
    "print(\"... \")\n",
    "try:\n",
    "    f = open(pickle_file, 'wb')\n",
    "    save = {\n",
    "        'training_dataset': training_dataset,\n",
    "        'training_label': training_label,       \n",
    "        'test_dataset': test_dataset,\n",
    "        'test_label': test_label        \n",
    "        }\n",
    "    pickle.dump(save, f, pickle.HIGHEST_PROTOCOL)\n",
    "    f.close()\n",
    "except Exception as e:\n",
    "    print('Unable to save data to', pickle_file, ':', e)\n",
    "    raise\n",
    "\n",
    "print(\"The dataset has been saved and it is ready for the training! \\n\")\n"
   ]
  },
  {
   "cell_type": "code",
   "execution_count": null,
   "metadata": {},
   "outputs": [],
   "source": []
  }
 ],
 "metadata": {
  "kernelspec": {
   "display_name": "Python 3",
   "language": "python",
   "name": "python3"
  },
  "language_info": {
   "codemirror_mode": {
    "name": "ipython",
    "version": 3
   },
   "file_extension": ".py",
   "mimetype": "text/x-python",
   "name": "python",
   "nbconvert_exporter": "python",
   "pygments_lexer": "ipython3",
   "version": "3.6.5"
  }
 },
 "nbformat": 4,
 "nbformat_minor": 2
}
